{
 "cells": [
  {
   "cell_type": "code",
   "execution_count": null,
   "id": "624bac37-b0df-44f4-8708-e9689f47f28a",
   "metadata": {},
   "outputs": [],
   "source": [
    "import pandas as pd\n",
    "import numpy as np\n",
    "import matplotlib.pyplot as plt\n",
    "import seaborn as sns\n",
    "from wordcloud import WordCloud\n",
    "from sklearn.model_selection import train_test_split"
   ]
  },
  {
   "cell_type": "code",
   "execution_count": null,
   "id": "b4e594c2-b35c-462b-b6cb-4e9536f12db5",
   "metadata": {},
   "outputs": [],
   "source": [
    "df = pd.read_csv(\"tweet_emotion.csv\")  "
   ]
  },
  {
   "cell_type": "code",
   "execution_count": null,
   "id": "23073685-25a0-4422-8943-3435114f823e",
   "metadata": {},
   "outputs": [],
   "source": [
    "print(df.info())\n",
    "print(df.head())"
   ]
  },
  {
   "cell_type": "code",
   "execution_count": null,
   "id": "3c088132-8219-468c-bf7c-398ea60f14d3",
   "metadata": {},
   "outputs": [],
   "source": [
    "data = pd.read_csv(\"tweet_emotion.csv\")\n",
    "\n",
    "# Ensure 'tweet_text' column contains valid strings\n",
    "data['tweet_text'] = data['tweet_text'].fillna(\"\").astype(str)\n",
    "\n",
    "# Add a text_length column after cleaning\n",
    "data['text_length'] = data['tweet_text'].apply(len)\n",
    "\n",
    "# Drop missing values (other columns if necessary)\n",
    "data.dropna(inplace=True)\n",
    "\n",
    "# Text length histogram\n",
    "plt.figure(figsize=(10, 6))\n",
    "sns.histplot(data['text_length'], bins=30, kde=True, color='skyblue')\n",
    "plt.title(\"Text Length Distribution\")\n",
    "plt.xlabel(\"Text Length\")\n",
    "plt.ylabel(\"Frequency\")\n",
    "plt.show()\n"
   ]
  },
  {
   "cell_type": "code",
   "execution_count": null,
   "id": "a796abff-dc96-4cd6-a283-2aaf85e8c260",
   "metadata": {},
   "outputs": [],
   "source": [
    "# Identify short and long texts\n",
    "short_texts = data[data['text_length'] < 5]\n",
    "long_texts = data[data['text_length'] > np.percentile(data['text_length'], 95)]\n",
    "\n",
    "# Print counts of short and long texts\n",
    "short_count = len(short_texts)\n",
    "long_count = len(long_texts)\n",
    "\n",
    "# Filter dataset to remove outliers\n",
    "length_threshold = np.percentile(data['text_length'], 95)\n",
    "filtered_data = data[(data['text_length'] >= 5) & (data['text_length'] <= length_threshold)]\n",
    "\n",
    "# Analyze emotion distribution\n",
    "emotion_counts = filtered_data['is_there_an_emotion_directed_at_a_brand_or_product'].value_counts()\n",
    "\n",
    "# Emotion bar chart\n",
    "plt.figure(figsize=(12, 6))\n",
    "sns.barplot(x=emotion_counts.index, y=emotion_counts.values, palette=\"pastel\")\n",
    "plt.title(\"Emotion Distribution in Dataset\")\n",
    "plt.xlabel(\"Emotion\")\n",
    "plt.ylabel(\"Frequency\")\n",
    "plt.xticks(rotation=45)\n",
    "plt.show()\n"
   ]
  },
  {
   "cell_type": "code",
   "execution_count": null,
   "id": "9dde37ec-8ed7-450b-9767-5c95b56c2e1f",
   "metadata": {},
   "outputs": [],
   "source": [
    "wordcloud = WordCloud(width=800, height=400, background_color='white').generate(\" \".join(filtered_data['tweet_text']))\n",
    "plt.figure(figsize=(10, 6))\n",
    "plt.imshow(wordcloud, interpolation='bilinear')\n",
    "plt.axis(\"off\")\n",
    "plt.title(\"Most Frequent Words in Dataset\")\n",
    "plt.show()\n",
    "\n",
    "# Train-test split\n",
    "train_data, test_data = train_test_split(filtered_data, test_size=0.2, random_state=42)\n",
    "\n",
    "# Results summary\n",
    "short_count, long_count, filtered_data.shape, train_data.shape, test_data.shape\n"
   ]
  },
  {
   "cell_type": "code",
   "execution_count": null,
   "id": "7a63126f-4ba6-4faa-b6fe-a725939b8c87",
   "metadata": {},
   "outputs": [],
   "source": [
    "import pandas as pd\n",
    "import numpy as np\n",
    "from sklearn.feature_extraction.text import TfidfVectorizer\n",
    "from sklearn.linear_model import LogisticRegression\n",
    "from sklearn.metrics import classification_report, accuracy_score\n",
    "from sklearn.model_selection import train_test_split\n"
   ]
  },
  {
   "cell_type": "code",
   "execution_count": null,
   "id": "4f152099-e815-411f-88c0-f914cc0e3afd",
   "metadata": {},
   "outputs": [],
   "source": [
    "data = pd.read_csv(\"tweet_emotion.csv\")\n",
    "data['tweet_text'] = data['tweet_text'].fillna(\"\").astype(str)\n",
    "data['text_length'] = data['tweet_text'].apply(len)\n",
    "length_threshold = np.percentile(data['text_length'], 95)\n",
    "filtered_data = data[(data['text_length'] >= 5) & (data['text_length'] <= length_threshold)]\n"
   ]
  },
  {
   "cell_type": "code",
   "execution_count": null,
   "id": "16da1f55-acc8-4404-af68-20a67513e03d",
   "metadata": {},
   "outputs": [],
   "source": [
    "train_data, test_data = train_test_split(filtered_data, test_size=0.2, random_state=42)\n"
   ]
  },
  {
   "cell_type": "code",
   "execution_count": null,
   "id": "0fc0830e-8eb6-4232-a0e2-d7d5cc3cdec8",
   "metadata": {},
   "outputs": [],
   "source": [
    "tfidf = TfidfVectorizer(max_features=5000, stop_words='english')\n",
    "X_train = tfidf.fit_transform(train_data['tweet_text'])\n",
    "X_test = tfidf.transform(test_data['tweet_text'])"
   ]
  },
  {
   "cell_type": "code",
   "execution_count": null,
   "id": "d492468e-0b19-4428-873f-26cc46ec9889",
   "metadata": {},
   "outputs": [],
   "source": [
    "y_train = train_data['is_there_an_emotion_directed_at_a_brand_or_product']\n",
    "y_test = test_data['is_there_an_emotion_directed_at_a_brand_or_product']"
   ]
  },
  {
   "cell_type": "code",
   "execution_count": null,
   "id": "ee0ffa6a-2263-4cf2-8e5e-07fb5422094a",
   "metadata": {},
   "outputs": [],
   "source": [
    "model = LogisticRegression(max_iter=1000, random_state=42)\n",
    "model.fit(X_train, y_train)\n",
    "\n",
    "# Predictions\n",
    "y_pred = model.predict(X_test)"
   ]
  },
  {
   "cell_type": "code",
   "execution_count": null,
   "id": "c31fcf76-1b93-4573-8b28-259c30533d91",
   "metadata": {},
   "outputs": [],
   "source": [
    "accuracy = accuracy_score(y_test, y_pred)\n",
    "report = classification_report(y_test, y_pred)\n",
    "\n",
    "print(f\"Accuracy: {accuracy:.2f}\")\n",
    "print(\"\\nClassification Report:\\n\")\n",
    "print(report)\n"
   ]
  },
  {
   "cell_type": "code",
   "execution_count": null,
   "id": "61d7dc50-8b7e-4614-a4e9-b85965dee0b8",
   "metadata": {},
   "outputs": [],
   "source": [
    "from sklearn.feature_extraction.text import TfidfVectorizer\n",
    "\n",
    "# Initialize TF-IDF Vectorizer\n",
    "tfidf = TfidfVectorizer(max_features=5000)  # You can adjust max_features based on your needs\n",
    "\n",
    "# Fit and transform the training data and transform the test data\n",
    "X_train_tfidf = tfidf.fit_transform(train_data['tweet_text'])\n",
    "X_test_tfidf = tfidf.transform(test_data['tweet_text'])\n",
    "\n",
    "# The target variable\n",
    "y_train = train_data['is_there_an_emotion_directed_at_a_brand_or_product']\n",
    "y_test = test_data['is_there_an_emotion_directed_at_a_brand_or_product']\n"
   ]
  },
  {
   "cell_type": "code",
   "execution_count": null,
   "id": "3dc61988-4de2-454e-993e-0d7e67104f34",
   "metadata": {},
   "outputs": [],
   "source": [
    "from sklearn.svm import SVC\n",
    "from sklearn.metrics import classification_report, accuracy_score\n",
    "\n",
    "# Initialize the SVM model (you can tune hyperparameters like kernel, C, etc.)\n",
    "svm_model = SVC(kernel='linear', random_state=42)\n",
    "\n",
    "# Train the model\n",
    "svm_model.fit(X_train_tfidf, y_train)\n",
    "\n",
    "# Make predictions on the test data\n",
    "y_pred = svm_model.predict(X_test_tfidf)\n",
    "\n",
    "# Evaluate the model\n",
    "accuracy = accuracy_score(y_test, y_pred)\n",
    "print(f\"Accuracy: {accuracy:.4f}\")\n",
    "\n",
    "# Classification report\n",
    "print(\"\\nClassification Report:\")\n",
    "print(classification_report(y_test, y_pred))\n"
   ]
  },
  {
   "cell_type": "code",
   "execution_count": null,
   "id": "b73f2c8c-38f6-45d9-b925-26f5eec8d9c5",
   "metadata": {},
   "outputs": [],
   "source": [
    "from sklearn.naive_bayes import MultinomialNB\n",
    "from sklearn.metrics import classification_report, accuracy_score\n",
    "from sklearn.feature_extraction.text import TfidfVectorizer\n",
    "\n",
    "#  Convert Text to TF-IDF Features\n",
    "tfidf = TfidfVectorizer(max_features=1000)  # Adjust max_features based on your dataset size\n",
    "\n",
    "# Fit and transform the training data and transform the test data\n",
    "X_train_tfidf = tfidf.fit_transform(train_data['tweet_text'])\n",
    "X_test_tfidf = tfidf.transform(test_data['tweet_text'])\n",
    "\n",
    "# The target variable\n",
    "y_train = train_data['is_there_an_emotion_directed_at_a_brand_or_product']\n",
    "y_test = test_data['is_there_an_emotion_directed_at_a_brand_or_product']\n",
    "\n",
    "#  Train the Naive Bayes Model\n",
    "nb_model = MultinomialNB()\n",
    "\n",
    "# Train the model\n",
    "nb_model.fit(X_train_tfidf, y_train)\n",
    "\n",
    "#  Make Predictions and Evaluate\n",
    "y_pred = nb_model.predict(X_test_tfidf)\n",
    "\n",
    "# Print the class distribution in the training data\n",
    "print(train_data['is_there_an_emotion_directed_at_a_brand_or_product'].value_counts())\n",
    "\n",
    "# Accuracy\n",
    "accuracy = accuracy_score(y_test, y_pred)\n",
    "print(f\"Accuracy: {accuracy:.4f}\")\n",
    "\n",
    "# Classification report\n",
    "print(\"\\nClassification Report:\")\n",
    "print(classification_report(y_test, y_pred, zero_division=0))\n"
   ]
  },
  {
   "cell_type": "code",
   "execution_count": null,
   "id": "0f4ba925-cd5e-48e2-81fa-3ba009a87ca2",
   "metadata": {},
   "outputs": [],
   "source": [
    "import pandas as pd\n",
    "import numpy as np\n",
    "from sklearn.model_selection import train_test_split\n",
    "from sklearn.feature_extraction.text import TfidfVectorizer\n",
    "from sklearn.ensemble import RandomForestClassifier\n",
    "from sklearn.metrics import classification_report, accuracy_score\n",
    "\n",
    "#  Load the Dataset\n",
    "data = pd.read_csv(\"tweet_emotion.csv\")  # Replace with your dataset's path\n",
    "\n",
    "#  Preprocess the Data\n",
    "data['tweet_text'] = data['tweet_text'].fillna(\"\").astype(str)  # Ensure valid strings\n",
    "data.dropna(inplace=True)  # Drop any remaining missing values if necessary\n",
    "\n",
    "#  Train-Test Split\n",
    "train_data, test_data = train_test_split(data, test_size=0.2, random_state=42)\n",
    "\n",
    "# TF-IDF Vectorization\n",
    "tfidf = TfidfVectorizer(max_features=1000)  # Adjust max_features as needed\n",
    "X_train_tfidf = tfidf.fit_transform(train_data['tweet_text'])\n",
    "X_test_tfidf = tfidf.transform(test_data['tweet_text'])\n",
    "\n",
    "#  Target Variable\n",
    "y_train = train_data['is_there_an_emotion_directed_at_a_brand_or_product']\n",
    "y_test = test_data['is_there_an_emotion_directed_at_a_brand_or_product']\n",
    "\n",
    "#  Random Forest Classifier\n",
    "rf_model = RandomForestClassifier(n_estimators=100, random_state=42)  # Adjust n_estimators as needed\n",
    "rf_model.fit(X_train_tfidf, y_train)\n",
    "\n",
    "#  Make Predictions and Evaluate\n",
    "y_pred = rf_model.predict(X_test_tfidf)\n",
    "\n",
    "# Accuracy\n",
    "accuracy = accuracy_score(y_test, y_pred)\n",
    "print(f\"Accuracy: {accuracy:.4f}\")\n",
    "\n",
    "# Classification Report\n",
    "print(\"\\nClassification Report:\")\n",
    "print(classification_report(y_test, y_pred, zero_division=0))\n"
   ]
  },
  {
   "cell_type": "code",
   "execution_count": null,
   "id": "37806b5a-e1a4-4564-97b6-93dc96e6706e",
   "metadata": {},
   "outputs": [],
   "source": [
    "import pandas as pd\n",
    "import numpy as np\n",
    "from sklearn.model_selection import train_test_split\n",
    "from sklearn.feature_extraction.text import TfidfVectorizer\n",
    "from sklearn.ensemble import GradientBoostingClassifier\n",
    "from sklearn.metrics import classification_report, accuracy_score\n",
    "\n",
    "#  Load the Dataset\n",
    "data = pd.read_csv(\"tweet_emotion.csv\")  # Replace with your dataset's path\n",
    "\n",
    "#  Preprocess the Data\n",
    "data['tweet_text'] = data['tweet_text'].fillna(\"\").astype(str)  # Ensure valid strings\n",
    "data.dropna(inplace=True)  # Drop any remaining missing values if necessary\n",
    "\n",
    "#  Train-Test Split\n",
    "train_data, test_data = train_test_split(data, test_size=0.2, random_state=42)\n",
    "\n",
    "#  TF-IDF Vectorization\n",
    "tfidf = TfidfVectorizer(max_features=1000)\n",
    "X_train_tfidf = tfidf.fit_transform(train_data['tweet_text'])\n",
    "X_test_tfidf = tfidf.transform(test_data['tweet_text'])\n",
    "\n",
    "#  Target Variable\n",
    "y_train = train_data['is_there_an_emotion_directed_at_a_brand_or_product']\n",
    "y_test = test_data['is_there_an_emotion_directed_at_a_brand_or_product']\n",
    "\n",
    "#  Gradient Boosting Classifier\n",
    "gb_model = GradientBoostingClassifier(n_estimators=100, learning_rate=0.1, max_depth=3, random_state=42)\n",
    "gb_model.fit(X_train_tfidf, y_train)\n",
    "\n",
    "#  Make Predictions and Evaluate\n",
    "y_pred = gb_model.predict(X_test_tfidf)\n",
    "\n",
    "# Accuracy\n",
    "accuracy = accuracy_score(y_test, y_pred)\n",
    "print(f\"Accuracy: {accuracy:.4f}\")\n",
    "\n",
    "# Classification Report\n",
    "print(\"\\nClassification Report:\")\n",
    "print(classification_report(y_test, y_pred, zero_division=0))\n"
   ]
  },
  {
   "cell_type": "code",
   "execution_count": null,
   "id": "2a066e1b-1e65-4ddb-bd0c-2a8d66afd786",
   "metadata": {},
   "outputs": [],
   "source": []
  }
 ],
 "metadata": {
  "kernelspec": {
   "display_name": "Python 3 (ipykernel)",
   "language": "python",
   "name": "python3"
  },
  "language_info": {
   "codemirror_mode": {
    "name": "ipython",
    "version": 3
   },
   "file_extension": ".py",
   "mimetype": "text/x-python",
   "name": "python",
   "nbconvert_exporter": "python",
   "pygments_lexer": "ipython3",
   "version": "3.13.0"
  }
 },
 "nbformat": 4,
 "nbformat_minor": 5
}
